{
 "cells": [
  {
   "cell_type": "code",
   "execution_count": 43,
   "metadata": {},
   "outputs": [],
   "source": [
    "import pandas as pd\n",
    "import numpy as np"
   ]
  },
  {
   "cell_type": "markdown",
   "metadata": {},
   "source": [
    "## Énoncé\n",
    "En tant que Data Scientist vous venez de décrocher une mission avec une plateforme d'éducation en ligne leader sur le marché européen, vous allez bientôt signer le contrat et vous consacrer au sujet pour les deux prochaines semaines.\n",
    "\n",
    "Ce leader de l'EdTech voit grand, ayant une forte implantation en France et en Europe, les dirigeants souhaitent également se développer sur le territoire américain qui regorge d'opportunités pour la formation en ligne, de par la taille de la population et des besoins liés aux métiers du numérique. L'entreprise souhaite démarrer son implantation aux USA en sélectionnant les territoires géographiques les plus prometteurs afin de lancer des campagnes publicitaires ciblées.\n",
    "\n",
    "## Mission\n",
    "Pour cette mission, on vous demande de déterminer la liste des villes prioritaires en vous basant sur des données récoltées par l'administration et disponibles en open-data. Votre objectif est de **fournir des résultats impactants** afin de guider Lesley en charge du développement pour la région Amérique du Nord.\n",
    "\n",
    "Pour ce travail, votre client a identifié [une source de données](https://data.ed.gov/dataset/college-scorecard-all-data-files-through-6-2020/resources?resource=658b5b83-ac9f-4e41-913e-9ba9411d7967) intéressante et a déjà initié une sélection de variables, à vous de compléter l'étude."
   ]
  },
  {
   "cell_type": "markdown",
   "metadata": {},
   "source": [
    "# Exercice\n",
    "## Partie 1 - Inspection des données (10 minutes)\n",
    "<img src='./oc_logo.png' width=15px /> Chargez le fichier `edtech_market_study_usa.csv` à l'aide de Pandas. Stockez le résultat du chargement dans la variable `df`.\n",
    "\n",
    "Les colonnes du fichier sont uniquement séparées par des virgules."
   ]
  },
  {
   "cell_type": "code",
   "execution_count": 47,
   "metadata": {},
   "outputs": [],
   "source": [
    "df = pd.read_csv('edtech_market_study_usa.csv', sep=',')"
   ]
  },
  {
   "cell_type": "markdown",
   "metadata": {},
   "source": [
    " "
   ]
  },
  {
   "cell_type": "markdown",
   "metadata": {},
   "source": [
    "<img src='./oc_logo.png' width=15px /> Pouvez-vous afficher les 5 premières lignes du dataframe pour vérifier que les données sont bien chargées ?"
   ]
  },
  {
   "cell_type": "code",
   "execution_count": 54,
   "metadata": {},
   "outputs": [
    {
     "name": "stdout",
     "output_type": "stream",
     "text": [
      "        ID                                  NOM       VILLE ETAT   LATITUDE  \\\n",
      "0   100200             Alabama A & M University      Normal   AL  34.783368   \n",
      "1   105200  University of Alabama at Birmingham  Birmingham   AL  33.505697   \n",
      "2  2503400                   Amridge University  Montgomery   AL  32.362609   \n",
      "3   105500  University of Alabama in Huntsville  Huntsville   AL  34.724557   \n",
      "4   100500             Alabama State University  Montgomery   AL  32.364317   \n",
      "\n",
      "   LONGITUDE  A_DISTANCE_SEULEMENT NOMBRE_ETUDIANTS    AGE_ENTREE  \\\n",
      "0 -86.568502                   0.0             1368  20.283741368   \n",
      "1 -86.799345                   0.0             2730   23.60797466   \n",
      "2 -86.174010                   1.0              135  33.672297297   \n",
      "3 -86.640449                   0.0             1175  22.727919632   \n",
      "4 -86.295677                   0.0             1281  20.130990415   \n",
      "\n",
      "   COUT_MOYEN_ANNEE_ACADEMIE  TAUX_ADMISSION  DEFAUT_PAIEMENT_2ANNEES  \\\n",
      "0                    22489.0          0.8986                    0.114   \n",
      "1                    24347.0          0.9211                    0.060   \n",
      "2                    17680.0             NaN                    0.071   \n",
      "3                    23441.0          0.8087                    0.077   \n",
      "4                    21476.0          0.9774                    0.132   \n",
      "\n",
      "   DEFAUT_PAIEMENT_3ANNEES  \n",
      "0                    0.182  \n",
      "1                    0.057  \n",
      "2                    0.110  \n",
      "3                    0.059  \n",
      "4                    0.203  \n"
     ]
    }
   ],
   "source": [
    "print(df.head(5))"
   ]
  },
  {
   "cell_type": "markdown",
   "metadata": {},
   "source": [
    " "
   ]
  },
  {
   "cell_type": "markdown",
   "metadata": {},
   "source": [
    "<img src='./oc_logo.png' width=15px /> Combien de lignes et colonnes sont contenues dans `df` ?"
   ]
  },
  {
   "cell_type": "code",
   "execution_count": 58,
   "metadata": {},
   "outputs": [
    {
     "name": "stdout",
     "output_type": "stream",
     "text": [
      "(6806, 13)\n"
     ]
    }
   ],
   "source": [
    "print(df.shape)"
   ]
  },
  {
   "cell_type": "markdown",
   "metadata": {},
   "source": [
    " "
   ]
  },
  {
   "cell_type": "markdown",
   "metadata": {},
   "source": [
    "<img src='./oc_logo.png' width=15px /> Affichez le type des colonnes"
   ]
  },
  {
   "cell_type": "code",
   "execution_count": 62,
   "metadata": {},
   "outputs": [
    {
     "name": "stdout",
     "output_type": "stream",
     "text": [
      "Index(['ID', 'NOM', 'VILLE', 'ETAT', 'LATITUDE', 'LONGITUDE',\n",
      "       'A_DISTANCE_SEULEMENT', 'NOMBRE_ETUDIANTS', 'AGE_ENTREE',\n",
      "       'COUT_MOYEN_ANNEE_ACADEMIE', 'TAUX_ADMISSION',\n",
      "       'DEFAUT_PAIEMENT_2ANNEES', 'DEFAUT_PAIEMENT_3ANNEES'],\n",
      "      dtype='object')\n"
     ]
    }
   ],
   "source": [
    "print(df.columns)"
   ]
  },
  {
   "cell_type": "markdown",
   "metadata": {},
   "source": [
    " "
   ]
  },
  {
   "cell_type": "markdown",
   "metadata": {},
   "source": [
    "<img src='./oc_logo.png' width=15px /> Les deux colonnes `NOMBRE_ETUDIANTS` et `AGE_ENTREE` ne sont pas bien typées, corrigez cela."
   ]
  },
  {
   "cell_type": "code",
   "execution_count": 66,
   "metadata": {},
   "outputs": [],
   "source": [
    "# la colonne contient une valeur string ce qui empêche la conversion en entier\n",
    "df.loc[df['NOMBRE_ETUDIANTS'] == 'PrivacySuppressed', 'NOMBRE_ETUDIANTS'] = np.nan\n",
    "# la colonne contient une valeur string ce qui empêche la conversion en entier\n",
    "df.loc[df['AGE_ENTREE'] == 'PrivacySuppressed', 'AGE_ENTREE'] = np.nan\n",
    "df['NOMBRE_ETUDIANTS'] = pd.to_numeric(df['NOMBRE_ETUDIANTS'])\n",
    "df['AGE_ENTREE'] = pd.to_numeric(df['AGE_ENTREE'])"
   ]
  },
  {
   "cell_type": "markdown",
   "metadata": {},
   "source": [
    " "
   ]
  },
  {
   "cell_type": "markdown",
   "metadata": {},
   "source": [
    "<img src='./oc_logo.png' width=15px /> Existe-t-il des valeurs manquantes dans ce jeu de données ?"
   ]
  },
  {
   "cell_type": "code",
   "execution_count": 70,
   "metadata": {},
   "outputs": [
    {
     "data": {
      "text/plain": [
       "ID                              0\n",
       "NOM                             0\n",
       "VILLE                           0\n",
       "ETAT                            0\n",
       "LATITUDE                      475\n",
       "LONGITUDE                     475\n",
       "A_DISTANCE_SEULEMENT          475\n",
       "NOMBRE_ETUDIANTS              747\n",
       "AGE_ENTREE                    626\n",
       "COUT_MOYEN_ANNEE_ACADEMIE    3375\n",
       "TAUX_ADMISSION               4800\n",
       "DEFAUT_PAIEMENT_2ANNEES      1296\n",
       "DEFAUT_PAIEMENT_3ANNEES       927\n",
       "dtype: int64"
      ]
     },
     "execution_count": 70,
     "metadata": {},
     "output_type": "execute_result"
    }
   ],
   "source": [
    "df.isnull().sum()"
   ]
  },
  {
   "cell_type": "markdown",
   "metadata": {},
   "source": [
    " "
   ]
  },
  {
   "cell_type": "markdown",
   "metadata": {},
   "source": [
    "<img src='./oc_logo.png' width=15px /> Vérifions s'il existe des doublons pour la variable ID qui est un identifiant unique"
   ]
  },
  {
   "cell_type": "code",
   "execution_count": 74,
   "metadata": {},
   "outputs": [
    {
     "data": {
      "text/plain": [
       "30"
      ]
     },
     "execution_count": 74,
     "metadata": {},
     "output_type": "execute_result"
    }
   ],
   "source": [
    "df.duplicated('ID').sum()"
   ]
  },
  {
   "cell_type": "markdown",
   "metadata": {},
   "source": [
    " "
   ]
  },
  {
   "cell_type": "markdown",
   "metadata": {},
   "source": [
    "<img src='./oc_logo.png' width=15px /> Nous allons maintenant nous débarrasser des duplicatas en supprimant la version la moins bien renseignée"
   ]
  },
  {
   "cell_type": "code",
   "execution_count": 78,
   "metadata": {},
   "outputs": [],
   "source": [
    "# on compte le nombre de valeurs manquantes pour la ligne et on stocke dans une nouvelle colonne\n",
    "df['NB_NAN'] = df.isna().sum(axis=1)\n",
    "# trie des lignes en fonction du nombre de valeurs manquantes\n",
    "df = df.sort_values('NB_NAN')\n",
    "# suppression des duplicatas en gardant les versions les mieux remplies\n",
    "df = df.drop_duplicates('ID', keep='first')\n",
    "# on supprime la colonne qui n'est plus utile\n",
    "df = df.drop('NB_NAN', axis=1)"
   ]
  },
  {
   "cell_type": "markdown",
   "metadata": {},
   "source": [
    "## Partie 2 - Exploration (2 heures)\n",
    "\n",
    "<img src='./oc_logo.png' width=15px /> Combien d'établissements sont représentés dans ce fichier ?"
   ]
  },
  {
   "cell_type": "code",
   "execution_count": 81,
   "metadata": {},
   "outputs": [
    {
     "data": {
      "text/plain": [
       "6776"
      ]
     },
     "execution_count": 81,
     "metadata": {},
     "output_type": "execute_result"
    }
   ],
   "source": [
    "len(df)"
   ]
  },
  {
   "cell_type": "markdown",
   "metadata": {},
   "source": [
    " "
   ]
  },
  {
   "cell_type": "markdown",
   "metadata": {},
   "source": [
    "<img src='./oc_logo.png' width=15px /> On souhaite savoir si la couverture des états est représentative, à savoir si le nombre d'établissements est significatif. **Donnez le nombre d'établissements par état**."
   ]
  },
  {
   "cell_type": "code",
   "execution_count": 85,
   "metadata": {},
   "outputs": [],
   "source": [
    "df_Etat_Representative= df[\"ETAT\"].value_counts()"
   ]
  },
  {
   "cell_type": "markdown",
   "metadata": {},
   "source": [
    " "
   ]
  },
  {
   "cell_type": "markdown",
   "metadata": {},
   "source": [
    "<img src='./oc_logo.png' width=15px /> Suite aux résultats de la question précédente, pensez-vous qu'il est normal que certains états possèdent si peu d'établissements ? Voici [un lien intéressant](https://www.factmonster.com/us/postal-information/state-abbreviations-and-state-postal-codes). \n",
    "\n",
    "Identifiez les états avec moins de 5 établissements éducatifs."
   ]
  },
  {
   "cell_type": "code",
   "execution_count": 89,
   "metadata": {},
   "outputs": [],
   "source": [
    "df_moins_5Etat= df['ETAT'].value_counts()[df['ETAT'].value_counts() < 5].index"
   ]
  },
  {
   "cell_type": "markdown",
   "metadata": {},
   "source": [
    " "
   ]
  },
  {
   "cell_type": "markdown",
   "metadata": {},
   "source": [
    "<img src='./oc_logo.png' width=15px /> Supprimez les établissements situés dans ces états, nos résultats risquent de ne pas être assez représentatifs si on les exploite."
   ]
  },
  {
   "cell_type": "code",
   "execution_count": 97,
   "metadata": {},
   "outputs": [],
   "source": [
    "df_moins_5Etat= df[~df['ETAT'].isin(df_moins_5Etat)]"
   ]
  },
  {
   "cell_type": "markdown",
   "metadata": {},
   "source": [
    " "
   ]
  },
  {
   "cell_type": "markdown",
   "metadata": {},
   "source": [
    "<img src='./oc_logo.png' width=15px /> Quels sont les 3 états qui hébergent le plus d'établissements fonctionnant en mode à distance ?"
   ]
  },
  {
   "cell_type": "code",
   "execution_count": 101,
   "metadata": {},
   "outputs": [
    {
     "name": "stdout",
     "output_type": "stream",
     "text": [
      "ETAT\n",
      "CA    9\n",
      "AZ    4\n",
      "WV    3\n",
      "Name: count, dtype: int64\n"
     ]
    }
   ],
   "source": [
    "print(df[df['A_DISTANCE_SEULEMENT'] == 1.0]['ETAT'].value_counts().head(3))"
   ]
  },
  {
   "cell_type": "markdown",
   "metadata": {},
   "source": [
    " "
   ]
  },
  {
   "cell_type": "markdown",
   "metadata": {},
   "source": [
    "<img src='./oc_logo.png' width=15px /> Nous allons exploiter le taux de défaut de paiement de l'établissement pour se renseigner sur le potentiel local d'une formation à coût inférieur. \n",
    "\n",
    "Faites une moyenne des variables `DEFAUT_PAIEMENT_2ANNEES` et `DEFAUT_PAIEMENT_3ANNEES`, stockez le résultat dans une nouvelle colonne `DEFAUT_PAIEMENT`."
   ]
  },
  {
   "cell_type": "code",
   "execution_count": 105,
   "metadata": {},
   "outputs": [],
   "source": [
    "df['DEFAUT_PAIEMENT'] = df[['DEFAUT_PAIEMENT_2ANNEES', 'DEFAUT_PAIEMENT_3ANNEES']].mean(axis=1)"
   ]
  },
  {
   "cell_type": "markdown",
   "metadata": {},
   "source": [
    " "
   ]
  },
  {
   "cell_type": "markdown",
   "metadata": {},
   "source": [
    "<img src='./oc_logo.png' width=15px /> Remplacez les valeurs manquantes de la colonne `DEFAUT_PAIEMENT` par zéro."
   ]
  },
  {
   "cell_type": "code",
   "execution_count": 109,
   "metadata": {},
   "outputs": [],
   "source": [
    "df['DEFAUT_PAIEMENT'] = df['DEFAUT_PAIEMENT'].fillna(0)"
   ]
  },
  {
   "cell_type": "markdown",
   "metadata": {},
   "source": [
    " "
   ]
  },
  {
   "cell_type": "markdown",
   "metadata": {},
   "source": [
    "<img src='./oc_logo.png' width=15px /> Il serait intéressant de connaître le nombre d'étudiants potentiels par ville dans le but de cibler prioritairement les plus peuplées, une hypothétique opération publicitaire serait alors plus rentable.\n",
    "\n",
    "Pour retrouver le nombre d'étudiants ayant fait une demande d'inscription, nous allons nous baser sur le nombre d'étudiants acceptés et sur le taux d'admission. \n",
    "\n",
    "Dans un premier temps remplacez les taux d'admission manquants par la valeur médiane de la variable."
   ]
  },
  {
   "cell_type": "code",
   "execution_count": 113,
   "metadata": {},
   "outputs": [],
   "source": [
    "median_admission = df['TAUX_ADMISSION'].median()"
   ]
  },
  {
   "cell_type": "markdown",
   "metadata": {},
   "source": [
    " "
   ]
  },
  {
   "cell_type": "markdown",
   "metadata": {},
   "source": [
    "<img src='./oc_logo.png' width=15px /> Supprimez les lignes ayant un taux d'admission nul, cela paraît peu probable."
   ]
  },
  {
   "cell_type": "code",
   "execution_count": 117,
   "metadata": {},
   "outputs": [],
   "source": [
    "df['TAUX_ADMISSION'] = df['TAUX_ADMISSION'].fillna(median_admission)"
   ]
  },
  {
   "cell_type": "markdown",
   "metadata": {},
   "source": [
    " "
   ]
  },
  {
   "cell_type": "markdown",
   "metadata": {},
   "source": [
    "<img src='./oc_logo.png' width=15px /> Remplacez les valeurs manquantes de la colonne `NOMBRE_ETUDIANTS` en remplaçant par la valeur médiane de la variable."
   ]
  },
  {
   "cell_type": "code",
   "execution_count": 123,
   "metadata": {},
   "outputs": [],
   "source": [
    "median_etudiants = df['NOMBRE_ETUDIANTS'].median()\n",
    "df['NOMBRE_ETUDIANTS'] = df['NOMBRE_ETUDIANTS'].fillna(median_etudiants)"
   ]
  },
  {
   "cell_type": "markdown",
   "metadata": {},
   "source": [
    " "
   ]
  },
  {
   "cell_type": "markdown",
   "metadata": {},
   "source": [
    "<img src='./oc_logo.png' width=15px /> À l'aide d'un calcul savant, retrouvez le nombre d'étudiants ayant fait une demande d'inscription."
   ]
  },
  {
   "cell_type": "code",
   "execution_count": 127,
   "metadata": {},
   "outputs": [],
   "source": [
    "df['NOMBRE_ETUDIANTS_DEMANDEURS'] = df['NOMBRE_ETUDIANTS'] / df['TAUX_ADMISSION']"
   ]
  },
  {
   "cell_type": "markdown",
   "metadata": {},
   "source": [
    " "
   ]
  },
  {
   "cell_type": "markdown",
   "metadata": {},
   "source": [
    "<img src='./oc_logo.png' width=15px /> Nous utiliserons plus tard la variable `COUT_MOYEN_ANNEE_ACADEMIE`, afin de quantifier le budget éducation des étudiants. Avant cela, il faut remplacer les valeurs manquantes de la variable par la médiane."
   ]
  },
  {
   "cell_type": "code",
   "execution_count": 131,
   "metadata": {},
   "outputs": [],
   "source": [
    "median_cout = df['COUT_MOYEN_ANNEE_ACADEMIE'].median()\n",
    "df['COUT_MOYEN_ANNEE_ACADEMIE'] = df['COUT_MOYEN_ANNEE_ACADEMIE'].fillna(median_cout)"
   ]
  },
  {
   "cell_type": "markdown",
   "metadata": {},
   "source": [
    "### Création des scores "
   ]
  },
  {
   "cell_type": "markdown",
   "metadata": {},
   "source": [
    " "
   ]
  },
  {
   "cell_type": "markdown",
   "metadata": {},
   "source": [
    "<img src='./oc_logo.png' width=15px /> Nous allons maintenant créer un score entre 0 et 1 pour noter le critère population étudiante de chaque ville (1 ville pour la plus peuplée, 0 pour la moins peuplée).\n",
    "\n",
    "Créez une colonne `SCORE_POP` contenant le score de la variable `NOMBRE_ETUDIANTS_DEMANDEURS`."
   ]
  },
  {
   "cell_type": "code",
   "execution_count": 136,
   "metadata": {},
   "outputs": [],
   "source": [
    "df['SCORE_POP'] = (df['NOMBRE_ETUDIANTS_DEMANDEURS'] - df['NOMBRE_ETUDIANTS_DEMANDEURS'].min()) / (df['NOMBRE_ETUDIANTS_DEMANDEURS'].max() - df['NOMBRE_ETUDIANTS_DEMANDEURS'].min())"
   ]
  },
  {
   "cell_type": "markdown",
   "metadata": {},
   "source": [
    " "
   ]
  },
  {
   "cell_type": "markdown",
   "metadata": {},
   "source": [
    "<img src='./oc_logo.png' width=15px /> Créez une colonne `SCORE_COUT` contenant le score issu de la variable `COUT_MOYEN_ANNEE_ACADEMIE`."
   ]
  },
  {
   "cell_type": "code",
   "execution_count": 140,
   "metadata": {},
   "outputs": [],
   "source": [
    "df['SCORE_COUT'] = (df['COUT_MOYEN_ANNEE_ACADEMIE'] - df['COUT_MOYEN_ANNEE_ACADEMIE'].min()) / (df['COUT_MOYEN_ANNEE_ACADEMIE'].max() - df['COUT_MOYEN_ANNEE_ACADEMIE'].min())"
   ]
  },
  {
   "cell_type": "markdown",
   "metadata": {},
   "source": [
    " "
   ]
  },
  {
   "cell_type": "markdown",
   "metadata": {},
   "source": [
    "<img src='./oc_logo.png' width=15px /> Créez une colonne `SCORE_DEFAUT` contenant le score issu de la variable `DEFAUT_PAIEMENT`."
   ]
  },
  {
   "cell_type": "code",
   "execution_count": 144,
   "metadata": {},
   "outputs": [],
   "source": [
    "df['SCORE_DEFAUT'] = (df['DEFAUT_PAIEMENT'] - df['DEFAUT_PAIEMENT'].min()) / (df['DEFAUT_PAIEMENT'].max() - df['DEFAUT_PAIEMENT'].min())"
   ]
  },
  {
   "cell_type": "markdown",
   "metadata": {},
   "source": [
    " "
   ]
  },
  {
   "cell_type": "markdown",
   "metadata": {},
   "source": [
    "<img src='./oc_logo.png' width=15px /> Par curiosité, on se demande si il existe une relation entre les variables `SCORE_DEFAUT` et `SCORE_COUT`. Pour démontrer cela, calculer la corrélation linéaire entre les deux variables."
   ]
  },
  {
   "cell_type": "code",
   "execution_count": 148,
   "metadata": {},
   "outputs": [
    {
     "name": "stdout",
     "output_type": "stream",
     "text": [
      "              SCORE_DEFAUT  SCORE_COUT\n",
      "SCORE_DEFAUT      1.000000   -0.253592\n",
      "SCORE_COUT       -0.253592    1.000000\n"
     ]
    }
   ],
   "source": [
    "print(df[['SCORE_DEFAUT', 'SCORE_COUT']].corr())"
   ]
  },
  {
   "cell_type": "markdown",
   "metadata": {},
   "source": [
    " "
   ]
  },
  {
   "cell_type": "markdown",
   "metadata": {},
   "source": [
    "<img src='./oc_logo.png' width=15px /> On souhaite identifier les écoles ayant un fort potentiel économique pour notre client, voici la liste des critères que l'on recherche :\n",
    "- Nombre important d'étudiants\n",
    "- Prix élevé de la formation\n",
    "- Taux d'admission faible\n",
    "\n",
    "Utilisez les scores calculés précédemment pour construire un nouvel indicateur (`SCORE_SYNT`) synthétisant ces propriétés."
   ]
  },
  {
   "cell_type": "code",
   "execution_count": 152,
   "metadata": {},
   "outputs": [],
   "source": [
    "df['SCORE_SYNT'] = (df['SCORE_POP'] + df['SCORE_COUT'] + (1 - df['TAUX_ADMISSION'])) / 3"
   ]
  },
  {
   "cell_type": "markdown",
   "metadata": {},
   "source": [
    " "
   ]
  },
  {
   "cell_type": "markdown",
   "metadata": {},
   "source": [
    "<img src='./oc_logo.png' width=15px /> Donnez la liste des 15 établissements les mieux classés par rapport à `SCORE_SYNT`"
   ]
  },
  {
   "cell_type": "code",
   "execution_count": 156,
   "metadata": {},
   "outputs": [
    {
     "name": "stdout",
     "output_type": "stream",
     "text": [
      "                                              NOM ETAT  SCORE_POP  SCORE_COUT  \\\n",
      "890                         University of Chicago   IL        0.0    0.776587   \n",
      "2153  Columbia University in the City of New York   NY        0.0    0.762516   \n",
      "1492                           Harvard University   MA        0.0    0.726795   \n",
      "605                               Yale University   CT        0.0    0.728473   \n",
      "983                       Northwestern University   IL        0.0    0.746550   \n",
      "3841                          Stanford University   CA        0.0    0.704866   \n",
      "2992                   University of Pennsylvania   PA        0.0    0.742480   \n",
      "2413                              Duke University   NC        0.0    0.741203   \n",
      "3072                             Brown University   RI        0.0    0.725875   \n",
      "1959                            Dartmouth College   NH        0.0    0.734286   \n",
      "260                     Claremont McKenna College   CA        0.0    0.733398   \n",
      "203            California Institute of Technology   CA        0.0    0.702614   \n",
      "411                                Pomona College   CA        0.0    0.711533   \n",
      "2046                         Princeton University   NJ        0.0    0.681496   \n",
      "1508        Massachusetts Institute of Technology   MA        0.0    0.686692   \n",
      "\n",
      "      TAUX_ADMISSION  SCORE_SYNT  \n",
      "890           0.0726    0.567996  \n",
      "2153          0.0591    0.567805  \n",
      "1492          0.0473    0.559832  \n",
      "605           0.0635    0.554991  \n",
      "983           0.0847    0.553950  \n",
      "3841          0.0436    0.553755  \n",
      "2992          0.0841    0.552793  \n",
      "2413          0.0891    0.550701  \n",
      "3072          0.0767    0.549725  \n",
      "1959          0.0874    0.548962  \n",
      "260           0.0931    0.546766  \n",
      "203           0.0662    0.545471  \n",
      "411           0.0761    0.545144  \n",
      "2046          0.0548    0.542232  \n",
      "1508          0.0674    0.539764  \n"
     ]
    }
   ],
   "source": [
    "top_15_etablissements = df[['NOM', 'ETAT', 'SCORE_POP', 'SCORE_COUT', 'TAUX_ADMISSION', 'SCORE_SYNT']].sort_values('SCORE_SYNT', ascending=False).head(15)\n",
    "print(top_15_etablissements)"
   ]
  },
  {
   "cell_type": "markdown",
   "metadata": {},
   "source": [
    " "
   ]
  },
  {
   "cell_type": "markdown",
   "metadata": {},
   "source": [
    "<img src='./oc_logo.png' width=15px /> Quels sont les 15 villes ayant les plus forts scores totaux ?"
   ]
  },
  {
   "cell_type": "code",
   "execution_count": 158,
   "metadata": {},
   "outputs": [
    {
     "name": "stdout",
     "output_type": "stream",
     "text": [
      "VILLE\n",
      "New York        18.275058\n",
      "Chicago         12.444111\n",
      "Houston         11.711340\n",
      "Los Angeles     10.591019\n",
      "Miami            8.009840\n",
      "Philadelphia     7.901911\n",
      "San Antonio      7.653783\n",
      "Atlanta          7.131512\n",
      "Brooklyn         6.669722\n",
      "Boston           6.474677\n",
      "Dallas           6.305685\n",
      "Washington       5.856127\n",
      "San Diego        5.764533\n",
      "Jacksonville     5.665956\n",
      "Portland         5.375490\n",
      "Name: SCORE_SYNT, dtype: float64\n"
     ]
    }
   ],
   "source": [
    "ville_scores = df.groupby('VILLE')['SCORE_SYNT'].sum().sort_values(ascending=False)\n",
    "print(ville_scores.head(15))"
   ]
  },
  {
   "cell_type": "markdown",
   "metadata": {},
   "source": [
    " "
   ]
  },
  {
   "cell_type": "markdown",
   "metadata": {},
   "source": [
    "<img src='./oc_logo.png' width=15px /> Et les états ?"
   ]
  },
  {
   "cell_type": "code",
   "execution_count": 160,
   "metadata": {},
   "outputs": [
    {
     "name": "stdout",
     "output_type": "stream",
     "text": [
      "ETAT\n",
      "CA    125.794714\n",
      "NY     85.154658\n",
      "TX     72.718926\n",
      "PA     66.950589\n",
      "FL     66.433176\n",
      "OH     52.363601\n",
      "IL     46.341693\n",
      "MA     36.444445\n",
      "NC     33.195738\n",
      "MI     32.754550\n",
      "GA     30.877362\n",
      "VA     30.304314\n",
      "NJ     28.783519\n",
      "MO     28.009849\n",
      "TN     27.666944\n",
      "Name: SCORE_SYNT, dtype: float64\n"
     ]
    }
   ],
   "source": [
    "Etat_scores = df.groupby('ETAT')['SCORE_SYNT'].sum().sort_values(ascending=False)\n",
    "print(Etat_scores.head(15))"
   ]
  },
  {
   "cell_type": "markdown",
   "metadata": {},
   "source": [
    "Coincidence avec le nombre d'établissements à distance ? ;)"
   ]
  },
  {
   "cell_type": "markdown",
   "metadata": {},
   "source": [
    " "
   ]
  },
  {
   "cell_type": "markdown",
   "metadata": {},
   "source": [
    "<img src='./oc_logo.png' width=15px /> Conclusions\n",
    "\n",
    "Vous venez d'identifier un ensemble de villes potentiellement intéressantes pour un développement commercial, il faut maintenant les présenter à votre client pour le convaincre de la pertinence de vos analyses !\n",
    "\n",
    "Dans cet exercice vous avez appris à nettoyer et explorer un jeu de données pour en extraire des données exploitables (ici à travers les scores). Essayez toujours de présenter des résultats simples à comprendre, ici les scores sont directement issus des indicateurs, ils sont bornés entre 0 et 1."
   ]
  },
  {
   "cell_type": "markdown",
   "metadata": {},
   "source": [
    "<img src='./oc_logo.png' width=15px /> Perspectives d'amélioration\n",
    "\n",
    "Nous n'avons pas exploité toutes les données, par exemple pour illustrer nos analyses il est indispensable de créer des visualisations graphiques avec matplotlib et seaborn, et pourquoi pas faire une carte interactive (avec folium) en utilisant lattitude et longitude."
   ]
  },
  {
   "cell_type": "markdown",
   "metadata": {},
   "source": [
    " "
   ]
  }
 ],
 "metadata": {
  "kernelspec": {
   "display_name": "Python 3 (ipykernel)",
   "language": "python",
   "name": "python3"
  },
  "language_info": {
   "codemirror_mode": {
    "name": "ipython",
    "version": 3
   },
   "file_extension": ".py",
   "mimetype": "text/x-python",
   "name": "python",
   "nbconvert_exporter": "python",
   "pygments_lexer": "ipython3",
   "version": "3.12.3"
  }
 },
 "nbformat": 4,
 "nbformat_minor": 4
}
